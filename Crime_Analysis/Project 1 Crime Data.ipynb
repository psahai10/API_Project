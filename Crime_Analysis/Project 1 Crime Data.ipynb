{
 "cells": [
  {
   "cell_type": "code",
   "execution_count": 1,
   "metadata": {},
   "outputs": [
    {
     "ename": "ModuleNotFoundError",
     "evalue": "No module named 'matplotlib'",
     "output_type": "error",
     "traceback": [
      "\u001b[1;31m---------------------------------------------------------------------------\u001b[0m",
      "\u001b[1;31mModuleNotFoundError\u001b[0m                       Traceback (most recent call last)",
      "\u001b[1;32m<ipython-input-1-dd288d8e2683>\u001b[0m in \u001b[0;36m<module>\u001b[1;34m\u001b[0m\n\u001b[0;32m      1\u001b[0m \u001b[1;31m#import modules\u001b[0m\u001b[1;33m\u001b[0m\u001b[1;33m\u001b[0m\u001b[1;33m\u001b[0m\u001b[0m\n\u001b[1;32m----> 2\u001b[1;33m \u001b[0mget_ipython\u001b[0m\u001b[1;33m(\u001b[0m\u001b[1;33m)\u001b[0m\u001b[1;33m.\u001b[0m\u001b[0mrun_line_magic\u001b[0m\u001b[1;33m(\u001b[0m\u001b[1;34m'matplotlib'\u001b[0m\u001b[1;33m,\u001b[0m \u001b[1;34m'inline'\u001b[0m\u001b[1;33m)\u001b[0m\u001b[1;33m\u001b[0m\u001b[1;33m\u001b[0m\u001b[0m\n\u001b[0m\u001b[0;32m      3\u001b[0m \u001b[1;32mimport\u001b[0m \u001b[0mmatplotlib\u001b[0m\u001b[1;33m.\u001b[0m\u001b[0mpyplot\u001b[0m \u001b[1;32mas\u001b[0m \u001b[0mplt\u001b[0m\u001b[1;33m\u001b[0m\u001b[1;33m\u001b[0m\u001b[0m\n\u001b[0;32m      4\u001b[0m \u001b[1;32mimport\u001b[0m \u001b[0mpandas\u001b[0m \u001b[1;32mas\u001b[0m \u001b[0mpd\u001b[0m\u001b[1;33m\u001b[0m\u001b[1;33m\u001b[0m\u001b[0m\n\u001b[0;32m      5\u001b[0m \u001b[1;32mimport\u001b[0m \u001b[0mnumpy\u001b[0m \u001b[1;32mas\u001b[0m \u001b[0mnp\u001b[0m\u001b[1;33m\u001b[0m\u001b[1;33m\u001b[0m\u001b[0m\n",
      "\u001b[1;32mc:\\users\\keith\\anaconda3\\envs\\pythondata\\lib\\site-packages\\IPython\\core\\interactiveshell.py\u001b[0m in \u001b[0;36mrun_line_magic\u001b[1;34m(self, magic_name, line, _stack_depth)\u001b[0m\n\u001b[0;32m   2305\u001b[0m                 \u001b[0mkwargs\u001b[0m\u001b[1;33m[\u001b[0m\u001b[1;34m'local_ns'\u001b[0m\u001b[1;33m]\u001b[0m \u001b[1;33m=\u001b[0m \u001b[0msys\u001b[0m\u001b[1;33m.\u001b[0m\u001b[0m_getframe\u001b[0m\u001b[1;33m(\u001b[0m\u001b[0mstack_depth\u001b[0m\u001b[1;33m)\u001b[0m\u001b[1;33m.\u001b[0m\u001b[0mf_locals\u001b[0m\u001b[1;33m\u001b[0m\u001b[1;33m\u001b[0m\u001b[0m\n\u001b[0;32m   2306\u001b[0m             \u001b[1;32mwith\u001b[0m \u001b[0mself\u001b[0m\u001b[1;33m.\u001b[0m\u001b[0mbuiltin_trap\u001b[0m\u001b[1;33m:\u001b[0m\u001b[1;33m\u001b[0m\u001b[1;33m\u001b[0m\u001b[0m\n\u001b[1;32m-> 2307\u001b[1;33m                 \u001b[0mresult\u001b[0m \u001b[1;33m=\u001b[0m \u001b[0mfn\u001b[0m\u001b[1;33m(\u001b[0m\u001b[1;33m*\u001b[0m\u001b[0margs\u001b[0m\u001b[1;33m,\u001b[0m \u001b[1;33m**\u001b[0m\u001b[0mkwargs\u001b[0m\u001b[1;33m)\u001b[0m\u001b[1;33m\u001b[0m\u001b[1;33m\u001b[0m\u001b[0m\n\u001b[0m\u001b[0;32m   2308\u001b[0m             \u001b[1;32mreturn\u001b[0m \u001b[0mresult\u001b[0m\u001b[1;33m\u001b[0m\u001b[1;33m\u001b[0m\u001b[0m\n\u001b[0;32m   2309\u001b[0m \u001b[1;33m\u001b[0m\u001b[0m\n",
      "\u001b[1;32m<c:\\users\\keith\\anaconda3\\envs\\pythondata\\lib\\site-packages\\decorator.py:decorator-gen-109>\u001b[0m in \u001b[0;36mmatplotlib\u001b[1;34m(self, line)\u001b[0m\n",
      "\u001b[1;32mc:\\users\\keith\\anaconda3\\envs\\pythondata\\lib\\site-packages\\IPython\\core\\magic.py\u001b[0m in \u001b[0;36m<lambda>\u001b[1;34m(f, *a, **k)\u001b[0m\n\u001b[0;32m    185\u001b[0m     \u001b[1;31m# but it's overkill for just that one bit of state.\u001b[0m\u001b[1;33m\u001b[0m\u001b[1;33m\u001b[0m\u001b[1;33m\u001b[0m\u001b[0m\n\u001b[0;32m    186\u001b[0m     \u001b[1;32mdef\u001b[0m \u001b[0mmagic_deco\u001b[0m\u001b[1;33m(\u001b[0m\u001b[0marg\u001b[0m\u001b[1;33m)\u001b[0m\u001b[1;33m:\u001b[0m\u001b[1;33m\u001b[0m\u001b[1;33m\u001b[0m\u001b[0m\n\u001b[1;32m--> 187\u001b[1;33m         \u001b[0mcall\u001b[0m \u001b[1;33m=\u001b[0m \u001b[1;32mlambda\u001b[0m \u001b[0mf\u001b[0m\u001b[1;33m,\u001b[0m \u001b[1;33m*\u001b[0m\u001b[0ma\u001b[0m\u001b[1;33m,\u001b[0m \u001b[1;33m**\u001b[0m\u001b[0mk\u001b[0m\u001b[1;33m:\u001b[0m \u001b[0mf\u001b[0m\u001b[1;33m(\u001b[0m\u001b[1;33m*\u001b[0m\u001b[0ma\u001b[0m\u001b[1;33m,\u001b[0m \u001b[1;33m**\u001b[0m\u001b[0mk\u001b[0m\u001b[1;33m)\u001b[0m\u001b[1;33m\u001b[0m\u001b[1;33m\u001b[0m\u001b[0m\n\u001b[0m\u001b[0;32m    188\u001b[0m \u001b[1;33m\u001b[0m\u001b[0m\n\u001b[0;32m    189\u001b[0m         \u001b[1;32mif\u001b[0m \u001b[0mcallable\u001b[0m\u001b[1;33m(\u001b[0m\u001b[0marg\u001b[0m\u001b[1;33m)\u001b[0m\u001b[1;33m:\u001b[0m\u001b[1;33m\u001b[0m\u001b[1;33m\u001b[0m\u001b[0m\n",
      "\u001b[1;32mc:\\users\\keith\\anaconda3\\envs\\pythondata\\lib\\site-packages\\IPython\\core\\magics\\pylab.py\u001b[0m in \u001b[0;36mmatplotlib\u001b[1;34m(self, line)\u001b[0m\n\u001b[0;32m     97\u001b[0m             \u001b[0mprint\u001b[0m\u001b[1;33m(\u001b[0m\u001b[1;34m\"Available matplotlib backends: %s\"\u001b[0m \u001b[1;33m%\u001b[0m \u001b[0mbackends_list\u001b[0m\u001b[1;33m)\u001b[0m\u001b[1;33m\u001b[0m\u001b[1;33m\u001b[0m\u001b[0m\n\u001b[0;32m     98\u001b[0m         \u001b[1;32melse\u001b[0m\u001b[1;33m:\u001b[0m\u001b[1;33m\u001b[0m\u001b[1;33m\u001b[0m\u001b[0m\n\u001b[1;32m---> 99\u001b[1;33m             \u001b[0mgui\u001b[0m\u001b[1;33m,\u001b[0m \u001b[0mbackend\u001b[0m \u001b[1;33m=\u001b[0m \u001b[0mself\u001b[0m\u001b[1;33m.\u001b[0m\u001b[0mshell\u001b[0m\u001b[1;33m.\u001b[0m\u001b[0menable_matplotlib\u001b[0m\u001b[1;33m(\u001b[0m\u001b[0margs\u001b[0m\u001b[1;33m.\u001b[0m\u001b[0mgui\u001b[0m\u001b[1;33m)\u001b[0m\u001b[1;33m\u001b[0m\u001b[1;33m\u001b[0m\u001b[0m\n\u001b[0m\u001b[0;32m    100\u001b[0m             \u001b[0mself\u001b[0m\u001b[1;33m.\u001b[0m\u001b[0m_show_matplotlib_backend\u001b[0m\u001b[1;33m(\u001b[0m\u001b[0margs\u001b[0m\u001b[1;33m.\u001b[0m\u001b[0mgui\u001b[0m\u001b[1;33m,\u001b[0m \u001b[0mbackend\u001b[0m\u001b[1;33m)\u001b[0m\u001b[1;33m\u001b[0m\u001b[1;33m\u001b[0m\u001b[0m\n\u001b[0;32m    101\u001b[0m \u001b[1;33m\u001b[0m\u001b[0m\n",
      "\u001b[1;32mc:\\users\\keith\\anaconda3\\envs\\pythondata\\lib\\site-packages\\IPython\\core\\interactiveshell.py\u001b[0m in \u001b[0;36menable_matplotlib\u001b[1;34m(self, gui)\u001b[0m\n\u001b[0;32m   3365\u001b[0m         \"\"\"\n\u001b[0;32m   3366\u001b[0m         \u001b[1;32mfrom\u001b[0m \u001b[0mIPython\u001b[0m\u001b[1;33m.\u001b[0m\u001b[0mcore\u001b[0m \u001b[1;32mimport\u001b[0m \u001b[0mpylabtools\u001b[0m \u001b[1;32mas\u001b[0m \u001b[0mpt\u001b[0m\u001b[1;33m\u001b[0m\u001b[1;33m\u001b[0m\u001b[0m\n\u001b[1;32m-> 3367\u001b[1;33m         \u001b[0mgui\u001b[0m\u001b[1;33m,\u001b[0m \u001b[0mbackend\u001b[0m \u001b[1;33m=\u001b[0m \u001b[0mpt\u001b[0m\u001b[1;33m.\u001b[0m\u001b[0mfind_gui_and_backend\u001b[0m\u001b[1;33m(\u001b[0m\u001b[0mgui\u001b[0m\u001b[1;33m,\u001b[0m \u001b[0mself\u001b[0m\u001b[1;33m.\u001b[0m\u001b[0mpylab_gui_select\u001b[0m\u001b[1;33m)\u001b[0m\u001b[1;33m\u001b[0m\u001b[1;33m\u001b[0m\u001b[0m\n\u001b[0m\u001b[0;32m   3368\u001b[0m \u001b[1;33m\u001b[0m\u001b[0m\n\u001b[0;32m   3369\u001b[0m         \u001b[1;32mif\u001b[0m \u001b[0mgui\u001b[0m \u001b[1;33m!=\u001b[0m \u001b[1;34m'inline'\u001b[0m\u001b[1;33m:\u001b[0m\u001b[1;33m\u001b[0m\u001b[1;33m\u001b[0m\u001b[0m\n",
      "\u001b[1;32mc:\\users\\keith\\anaconda3\\envs\\pythondata\\lib\\site-packages\\IPython\\core\\pylabtools.py\u001b[0m in \u001b[0;36mfind_gui_and_backend\u001b[1;34m(gui, gui_select)\u001b[0m\n\u001b[0;32m    274\u001b[0m     \"\"\"\n\u001b[0;32m    275\u001b[0m \u001b[1;33m\u001b[0m\u001b[0m\n\u001b[1;32m--> 276\u001b[1;33m     \u001b[1;32mimport\u001b[0m \u001b[0mmatplotlib\u001b[0m\u001b[1;33m\u001b[0m\u001b[1;33m\u001b[0m\u001b[0m\n\u001b[0m\u001b[0;32m    277\u001b[0m \u001b[1;33m\u001b[0m\u001b[0m\n\u001b[0;32m    278\u001b[0m     \u001b[1;32mif\u001b[0m \u001b[0mgui\u001b[0m \u001b[1;32mand\u001b[0m \u001b[0mgui\u001b[0m \u001b[1;33m!=\u001b[0m \u001b[1;34m'auto'\u001b[0m\u001b[1;33m:\u001b[0m\u001b[1;33m\u001b[0m\u001b[1;33m\u001b[0m\u001b[0m\n",
      "\u001b[1;31mModuleNotFoundError\u001b[0m: No module named 'matplotlib'"
     ]
    }
   ],
   "source": [
    "#import modules\n",
    "%matplotlib inline\n",
    "import matplotlib.pyplot as plt\n",
    "import pandas as pd\n",
    "import numpy as np\n",
    "import gmaps"
   ]
  },
  {
   "cell_type": "code",
   "execution_count": 9,
   "metadata": {},
   "outputs": [],
   "source": [
    "#Start the Heatmap Proccess\n",
    "from config import gkey\n",
    "\n",
    "# Configure gmaps\n",
    "gmaps.configure(api_key=gkey)"
   ]
  },
  {
   "cell_type": "code",
   "execution_count": 3,
   "metadata": {},
   "outputs": [],
   "source": [
    "#Import the FILE\n",
    "crime_data = \"Crime_Data_from_2010_to_Present.csv\"\n",
    "\n",
    "#Convert to DataFrame\n",
    "crime_data_df = pd.read_csv(crime_data)\n",
    "\n",
    "#Print Header\n",
    "#crime_data_df.head(5)"
   ]
  },
  {
   "cell_type": "code",
   "execution_count": 4,
   "metadata": {},
   "outputs": [],
   "source": [
    "# Reorganizing the columns using double brackets\n",
    "organized_crime_data_df = crime_data_df[[\"Date Occurred\",\"Area Name\",\"Crime Code Description\",\"Address\",\"Location \"]]\n",
    "#organized_crime_data_df.head()"
   ]
  },
  {
   "cell_type": "code",
   "execution_count": 5,
   "metadata": {},
   "outputs": [],
   "source": [
    "#Create a New CSV File\n",
    "#crime_data_2017_df.to_csv('2017CrimeData.csv')"
   ]
  },
  {
   "cell_type": "code",
   "execution_count": 6,
   "metadata": {},
   "outputs": [],
   "source": [
    "#Narrowing down the information by year\n",
    "\n",
    "#Import the FILE\n",
    "crime2017_data = \"2017CrimeData.csv\"\n",
    "\n",
    "#Convert to DataFrame\n",
    "crime_data_2017_df = pd.read_csv(crime2017_data)\n",
    "\n",
    "# Set index\n",
    "date1 = '2017-01-01'\n",
    "date2 = '2017-12-31'\n",
    "\n",
    "organized_crime_data_2017_df = crime_data_2017_df.loc[(crime_data_2017_df['Date Occurred']>date1) & (crime_data_2017_df['Date Occurred']<date2)]\n",
    "#organized_crime_data_2017_df.head()"
   ]
  },
  {
   "cell_type": "code",
   "execution_count": 7,
   "metadata": {},
   "outputs": [],
   "source": [
    "#Rename the columns\n",
    "organized_crime_data_2017_df = organized_crime_data_2017_df.rename(columns={'Crime Code Description': 'crime', 'Location ': 'Location'})"
   ]
  },
  {
   "cell_type": "code",
   "execution_count": 8,
   "metadata": {},
   "outputs": [],
   "source": [
    "#Clean up the Coordinates\n",
    "organized_crime_data_2017_df['Location'] = organized_crime_data_2017_df['Location'].str.replace('(', '')"
   ]
  },
  {
   "cell_type": "code",
   "execution_count": 9,
   "metadata": {},
   "outputs": [],
   "source": [
    "#Clean up the Coordinates\n",
    "organized_crime_data_2017_df['Location'] = organized_crime_data_2017_df['Location'].str.replace(')', '')"
   ]
  },
  {
   "cell_type": "code",
   "execution_count": 10,
   "metadata": {},
   "outputs": [],
   "source": [
    "#Find Unique Crime Names\n",
    "#organized_crime_data_2017_df.crime.unique()"
   ]
  },
  {
   "cell_type": "code",
   "execution_count": 11,
   "metadata": {},
   "outputs": [],
   "source": [
    "#Segregating the Crimes into Minor/Major Crimes\n",
    "#Create the list\n",
    "minor_crimes = ['THEFT PLAIN - PETTY ($950 & UNDER)', 'VANDALISM - MISDEAMEANOR ($399 OR UNDER)', 'SHOPLIFTING - PETTY THEFT ($950 & UNDER)',\n",
    "'BIKE - STOLEN', 'BURGLARY', 'BURGLARY FROM VEHICLE',\n",
    "       'THEFT FROM MOTOR VEHICLE - PETTY ($950 & UNDER)', 'LETTERS, LEWD  -  TELEPHONE CALLS, LEWD', 'BURGLARY, ATTEMPTED', 'OTHER MISCELLANEOUS CRIME',\n",
    "'THEFT FROM MOTOR VEHICLE - ATTEMPT', 'CONTEMPT OF COURT',\n",
    "       'VIOLATION OF RESTRAINING ORDER', 'CHILD NEGLECT (SEE 300 W.I.C.)', 'TRESPASSING', 'BUNCO, PETTY THEFT', 'VIOLATION OF TEMPORARY RESTRAINING ORDER',\n",
    "'VIOLATION OF TEMPORARY RESTRAINING ORDER', 'RESISTING ARREST',\n",
    "       'SHOPLIFTING - ATTEMPT', 'INDECENT EXPOSURE', 'PEEPING TOM', 'DISTURBING THE PEACE', 'TILL TAP - PETTY ($950 & UNDER)', 'THROWING OBJECT AT MOVING VEHICLE', 'VIOLATION OF COURT ORDER',\n",
    "'EMBEZZLEMENT, PETTY THEFT ($950 & UNDER)', 'LEWD CONDUCT', 'UNAUTHORIZED COMPUTER ACCESS', \n",
    "'THEFT, COIN MACHINE - PETTY ($950 & UNDER)',\n",
    "       'THREATENING PHONE CALLS/LETTERS',\n",
    "       'CHILD ANNOYING (17YRS & UNDER)', 'CREDIT CARDS, FRAUD USE ($950 & UNDER', 'FALSE POLICE REPORT',\n",
    "'ORAL COPULATION', 'THEFT PLAIN - ATTEMPT', 'THEFT, COIN MACHINE - ATTEMPT', 'PICKPOCKET',\n",
    "       'DEFRAUDING INNKEEPER/THEFT OF SERVICES, $400 & UNDER', 'DISHONEST EMPLOYEE - PETTY THEFT', 'ILLEGAL DUMPING', 'DISHONEST EMPLOYEE ATTEMPTED THEFT',\n",
    "       'FAILURE TO YIELD', 'PANDERING',\n",
    "       'DRIVING WITHOUT OWNER CONSENT (DWOC)', 'THEFT FROM PERSON - ATTEMPT', 'PURSE SNATCHING - ATTEMPT', 'DOCUMENT WORTHLESS ($200 & UNDER)', \n",
    "'CONTRIBUTING', 'DRUNK ROLL', 'TELEPHONE PROPERTY - DAMAGE', 'PICKPOCKET, ATTEMPT',\n",
    "'BLOCKING DOOR INDUCTION CENTER', 'DISRUPT SCHOOL', 'PETTY THEFT - AUTO REPAIR', 'TILL TAP - ATTEMPT']\n",
    "\n",
    "#Major/Minor\n",
    "organized_crime_data_2017_df[\"Level of Crime\"] = np.where(organized_crime_data_2017_df[\"crime\"].isin(minor_crimes), \"1\", \"2\")\n",
    "#organized_crime_data_2017_df.head(5)"
   ]
  },
  {
   "cell_type": "code",
   "execution_count": 12,
   "metadata": {},
   "outputs": [],
   "source": [
    "# Create two lists for the loop results to be placed\n",
    "lat = []\n",
    "lon = []\n",
    "\n",
    "# For each row in a varible,\n",
    "for row in organized_crime_data_2017_df['Location']:\n",
    "    # Try to,\n",
    "    try:\n",
    "        # Split the row by comma and append\n",
    "        # everything before the comma to lat\n",
    "        lat.append(row.split(',')[0])\n",
    "        # Split the row by comma and append\n",
    "        # everything after the comma to lon\n",
    "        lon.append(row.split(',')[1])\n",
    "    # But if you get an error\n",
    "    except:\n",
    "        # append a missing value to lat\n",
    "        lat.append(np.NaN)\n",
    "        # append a missing value to lon\n",
    "        lon.append(np.NaN)\n",
    "        \n",
    "# Create two new columns from lat and lon\n",
    "organized_crime_data_2017_df['Latitude'] = lat\n",
    "organized_crime_data_2017_df['Longitude'] = lon\n",
    "#organized_crime_data_2017_df.head(5)"
   ]
  },
  {
   "cell_type": "code",
   "execution_count": 13,
   "metadata": {},
   "outputs": [],
   "source": [
    "zero_data = organized_crime_data_2017_df.replace('0', np.nan)\n",
    "dropped_data = zero_data.dropna(axis='index', how='any')"
   ]
  },
  {
   "cell_type": "code",
   "execution_count": 14,
   "metadata": {},
   "outputs": [],
   "source": [
    "#Create a New CSV File\n",
    "#dropped_data.to_csv('Organized2017CrimeData.csv')"
   ]
  },
  {
   "cell_type": "code",
   "execution_count": 15,
   "metadata": {},
   "outputs": [
    {
     "data": {
      "text/html": [
       "<div>\n",
       "<style scoped>\n",
       "    .dataframe tbody tr th:only-of-type {\n",
       "        vertical-align: middle;\n",
       "    }\n",
       "\n",
       "    .dataframe tbody tr th {\n",
       "        vertical-align: top;\n",
       "    }\n",
       "\n",
       "    .dataframe thead th {\n",
       "        text-align: right;\n",
       "    }\n",
       "</style>\n",
       "<table border=\"1\" class=\"dataframe\">\n",
       "  <thead>\n",
       "    <tr style=\"text-align: right;\">\n",
       "      <th></th>\n",
       "      <th>Unnamed: 0</th>\n",
       "      <th>Date Occurred</th>\n",
       "      <th>Area Name</th>\n",
       "      <th>crime</th>\n",
       "      <th>Address</th>\n",
       "      <th>Location</th>\n",
       "      <th>Level of Crime</th>\n",
       "      <th>Latitude</th>\n",
       "      <th>Longitude</th>\n",
       "    </tr>\n",
       "  </thead>\n",
       "  <tbody>\n",
       "    <tr>\n",
       "      <th>0</th>\n",
       "      <td>417668</td>\n",
       "      <td>2017-01-02</td>\n",
       "      <td>Central</td>\n",
       "      <td>VANDALISM - FELONY ($400 &amp; OVER, ALL CHURCH VA...</td>\n",
       "      <td>100 N  LOS ANGELES                  ST</td>\n",
       "      <td>34.0515, -118.2424</td>\n",
       "      <td>2</td>\n",
       "      <td>34.0515</td>\n",
       "      <td>-118.2424</td>\n",
       "    </tr>\n",
       "    <tr>\n",
       "      <th>1</th>\n",
       "      <td>417669</td>\n",
       "      <td>2017-01-02</td>\n",
       "      <td>Central</td>\n",
       "      <td>INTIMATE PARTNER - SIMPLE ASSAULT</td>\n",
       "      <td>400 E  5TH                          ST</td>\n",
       "      <td>34.0453, -118.2443</td>\n",
       "      <td>2</td>\n",
       "      <td>34.0453</td>\n",
       "      <td>-118.2443</td>\n",
       "    </tr>\n",
       "    <tr>\n",
       "      <th>2</th>\n",
       "      <td>417672</td>\n",
       "      <td>2017-01-02</td>\n",
       "      <td>Central</td>\n",
       "      <td>BRANDISH WEAPON</td>\n",
       "      <td>3RD</td>\n",
       "      <td>34.0464, -118.2402</td>\n",
       "      <td>2</td>\n",
       "      <td>34.0464</td>\n",
       "      <td>-118.2402</td>\n",
       "    </tr>\n",
       "    <tr>\n",
       "      <th>7</th>\n",
       "      <td>417679</td>\n",
       "      <td>2017-01-02</td>\n",
       "      <td>Central</td>\n",
       "      <td>BATTERY - SIMPLE ASSAULT</td>\n",
       "      <td>500    STANFORD                     AV</td>\n",
       "      <td>34.0426, -118.2412</td>\n",
       "      <td>2</td>\n",
       "      <td>34.0426</td>\n",
       "      <td>-118.2412</td>\n",
       "    </tr>\n",
       "    <tr>\n",
       "      <th>9</th>\n",
       "      <td>417681</td>\n",
       "      <td>2017-01-02</td>\n",
       "      <td>Central</td>\n",
       "      <td>BATTERY - SIMPLE ASSAULT</td>\n",
       "      <td>500 S  SAN PEDRO                    ST</td>\n",
       "      <td>34.0442, -118.2439</td>\n",
       "      <td>2</td>\n",
       "      <td>34.0442</td>\n",
       "      <td>-118.2439</td>\n",
       "    </tr>\n",
       "  </tbody>\n",
       "</table>\n",
       "</div>"
      ],
      "text/plain": [
       "   Unnamed: 0 Date Occurred Area Name  \\\n",
       "0      417668    2017-01-02   Central   \n",
       "1      417669    2017-01-02   Central   \n",
       "2      417672    2017-01-02   Central   \n",
       "7      417679    2017-01-02   Central   \n",
       "9      417681    2017-01-02   Central   \n",
       "\n",
       "                                               crime  \\\n",
       "0  VANDALISM - FELONY ($400 & OVER, ALL CHURCH VA...   \n",
       "1                  INTIMATE PARTNER - SIMPLE ASSAULT   \n",
       "2                                    BRANDISH WEAPON   \n",
       "7                           BATTERY - SIMPLE ASSAULT   \n",
       "9                           BATTERY - SIMPLE ASSAULT   \n",
       "\n",
       "                                  Address            Location Level of Crime  \\\n",
       "0  100 N  LOS ANGELES                  ST  34.0515, -118.2424              2   \n",
       "1  400 E  5TH                          ST  34.0453, -118.2443              2   \n",
       "2                                     3RD  34.0464, -118.2402              2   \n",
       "7  500    STANFORD                     AV  34.0426, -118.2412              2   \n",
       "9  500 S  SAN PEDRO                    ST  34.0442, -118.2439              2   \n",
       "\n",
       "  Latitude   Longitude  \n",
       "0  34.0515   -118.2424  \n",
       "1  34.0453   -118.2443  \n",
       "2  34.0464   -118.2402  \n",
       "7  34.0426   -118.2412  \n",
       "9  34.0442   -118.2439  "
      ]
     },
     "execution_count": 15,
     "metadata": {},
     "output_type": "execute_result"
    }
   ],
   "source": [
    "#Create a Minor Crime and Major Crime Dataframe\n",
    "minor_crimes_2017 = dropped_data.loc[(dropped_data[\"Level of Crime\"] == '1')]\n",
    "major_crimes_2017 = dropped_data.loc[(dropped_data[\"Level of Crime\"] == '2')]\n",
    "major_crimes_2017.head(5)\n",
    "#major_crimes_2017.head()"
   ]
  },
  {
   "cell_type": "code",
   "execution_count": null,
   "metadata": {},
   "outputs": [],
   "source": [
    "# Store 'Lat' and 'Lng' into  locations \n",
    "minor_locations = minor_crimes_2017[[\"Latitude\", \"Longitude\"]].astype(float)\n",
    "# minor_weights = minor_crimes_2017[\"Level of Crime\"].astype(float)\n",
    "\n",
    "major_locations = major_crimes_2017[[\"Latitude\", \"Longitude\"]].astype(float)\n",
    "# major_weights = major_crimes_2017[\"Level of Crime\"].astype(float)"
   ]
  },
  {
   "cell_type": "code",
   "execution_count": 10,
   "metadata": {},
   "outputs": [],
   "source": [
    "coordinates = [\n",
    "    (40.71, -74.00),\n",
    "    (30.26, -97.74),\n",
    "    (46.87, -96.78),\n",
    "    (47.60, -122.33),\n",
    "    (32.71, -117.16)\n",
    "]"
   ]
  },
  {
   "cell_type": "code",
   "execution_count": 12,
   "metadata": {},
   "outputs": [
    {
     "data": {
      "application/vnd.jupyter.widget-view+json": {
       "model_id": "9b2afc0dcfdf4d878dee4f032a75d7a7",
       "version_major": 2,
       "version_minor": 0
      },
      "text/plain": [
       "Figure(layout=FigureLayout(height='420px'))"
      ]
     },
     "metadata": {},
     "output_type": "display_data"
    }
   ],
   "source": [
    "#Create the Gmaps\n",
    "fig = gmaps.figure()\n",
    "minor_locations_layer = gmaps.marker_layer(coordinates)\n",
    "fig.add_layer(minor_locations_layer)\n",
    "fig"
   ]
  },
  {
   "cell_type": "code",
   "execution_count": 6,
   "metadata": {},
   "outputs": [
    {
     "ename": "NameError",
     "evalue": "name 'minor_locations' is not defined",
     "output_type": "error",
     "traceback": [
      "\u001b[1;31m---------------------------------------------------------------------------\u001b[0m",
      "\u001b[1;31mNameError\u001b[0m                                 Traceback (most recent call last)",
      "\u001b[1;32m<ipython-input-6-e3aececdb366>\u001b[0m in \u001b[0;36m<module>\u001b[1;34m()\u001b[0m\n\u001b[0;32m      1\u001b[0m \u001b[1;31m#Map Scatter Plot - Minor Crimes\u001b[0m\u001b[1;33m\u001b[0m\u001b[1;33m\u001b[0m\u001b[0m\n\u001b[1;32m----> 2\u001b[1;33m \u001b[0mminor_locations\u001b[0m\u001b[1;33m.\u001b[0m\u001b[0mplot\u001b[0m\u001b[1;33m.\u001b[0m\u001b[0mscatter\u001b[0m\u001b[1;33m(\u001b[0m\u001b[0mx\u001b[0m\u001b[1;33m=\u001b[0m\u001b[1;34m\"Longitude\"\u001b[0m\u001b[1;33m,\u001b[0m \u001b[0my\u001b[0m\u001b[1;33m=\u001b[0m\u001b[1;34m\"Latitude\"\u001b[0m\u001b[1;33m,\u001b[0m \u001b[0ms\u001b[0m\u001b[1;33m=\u001b[0m\u001b[1;36m10\u001b[0m\u001b[1;33m,\u001b[0m \u001b[0mc\u001b[0m\u001b[1;33m=\u001b[0m\u001b[1;34m'g'\u001b[0m\u001b[1;33m,\u001b[0m \u001b[0mlabel\u001b[0m\u001b[1;33m=\u001b[0m\u001b[1;34m\"Minor Crime Committed\"\u001b[0m\u001b[1;33m,\u001b[0m\u001b[0malpha\u001b[0m\u001b[1;33m=\u001b[0m\u001b[1;36m0.005\u001b[0m\u001b[1;33m)\u001b[0m\u001b[1;33m\u001b[0m\u001b[0m\n\u001b[0m\u001b[0;32m      3\u001b[0m \u001b[0mplt\u001b[0m\u001b[1;33m.\u001b[0m\u001b[0mylabel\u001b[0m\u001b[1;33m(\u001b[0m\u001b[1;34m\"Latitude\"\u001b[0m\u001b[1;33m,\u001b[0m \u001b[0mfontsize\u001b[0m\u001b[1;33m=\u001b[0m\u001b[1;36m10\u001b[0m\u001b[1;33m)\u001b[0m\u001b[1;33m\u001b[0m\u001b[0m\n\u001b[0;32m      4\u001b[0m \u001b[0mplt\u001b[0m\u001b[1;33m.\u001b[0m\u001b[0mxlabel\u001b[0m\u001b[1;33m(\u001b[0m\u001b[1;34m\"Longitude\"\u001b[0m\u001b[1;33m,\u001b[0m \u001b[0mfontsize\u001b[0m\u001b[1;33m=\u001b[0m\u001b[1;36m10\u001b[0m\u001b[1;33m)\u001b[0m\u001b[1;33m\u001b[0m\u001b[0m\n\u001b[0;32m      5\u001b[0m \u001b[0mplt\u001b[0m\u001b[1;33m.\u001b[0m\u001b[0mshow\u001b[0m\u001b[1;33m(\u001b[0m\u001b[1;33m)\u001b[0m\u001b[1;33m\u001b[0m\u001b[0m\n",
      "\u001b[1;31mNameError\u001b[0m: name 'minor_locations' is not defined"
     ]
    }
   ],
   "source": [
    "#Map Scatter Plot - Minor Crimes\n",
    "minor_locations.plot.scatter(x=\"Longitude\", y=\"Latitude\", s=10, c='g', label=\"Minor Crime Committed\",alpha=0.005)\n",
    "plt.ylabel(\"Latitude\", fontsize=10)\n",
    "plt.xlabel(\"Longitude\", fontsize=10)\n",
    "plt.show()"
   ]
  },
  {
   "cell_type": "code",
   "execution_count": null,
   "metadata": {},
   "outputs": [],
   "source": [
    "#Map Scatter Plot - Major Crimes\n",
    "major_locations.plot.scatter(x=\"Longitude\", y=\"Latitude\", s=10, c='r', label=\"Major Crime Committed\", alpha=0.005)\n",
    "plt.show()"
   ]
  },
  {
   "cell_type": "code",
   "execution_count": null,
   "metadata": {},
   "outputs": [],
   "source": [
    "#Replace the Zeroes\n",
    "# dropna_data = organized_crime_data_2017_df[['Longitude', 'Latitude']].dropna()\n"
   ]
  },
  {
   "cell_type": "code",
   "execution_count": null,
   "metadata": {},
   "outputs": [],
   "source": [
    "# #Import the FILE\n",
    "# organizedcrime2017_data = \"Organized2017CrimeData.csv\"\n",
    "\n",
    "# #Convert to DataFrame\n",
    "# organizedcrime2017_df = pd.read_csv(organizedcrime2017_data)\n",
    "# #organizedcrime2017_df.head(5)"
   ]
  },
  {
   "cell_type": "code",
   "execution_count": null,
   "metadata": {},
   "outputs": [],
   "source": [
    "# #Retype the Lat Lon\n",
    "# locations_df = organizedcrime2017_df[[\"Latitude\", \"Longitude\"]]\n",
    "# #locations_df.Latitude.dtype\n",
    "# #Recreate the Minor and Major Dataframes\n",
    "# minor_crimes_2017 = locations_df.loc[(organizedcrime2017_df[\"Level of Crime\"] == '1')]\n",
    "# #major_crimes_2017 = organizedcrime2017_df.loc[(organizedcrime2017_df[\"Level of Crime\"] == '0')]"
   ]
  },
  {
   "cell_type": "code",
   "execution_count": null,
   "metadata": {},
   "outputs": [],
   "source": [
    "# # Create a minor crime Heatmap layer\n",
    "# fig = gmaps.figure()\n",
    "\n",
    "# heat_layer = gmaps.heatmap_layer(minor_locations, weights=minor_weights,\n",
    "#                                  dissipating=False, max_intensity=100,\n",
    "#                                  point_radius = 1)\n",
    "\n",
    "# # Adjust heat_layer setting to help with heatmap dissipating on zoom\n",
    "# heat_layer.dissipating = False\n",
    "# heat_layer.max_intensity = 100\n",
    "# heat_layer.point_radius = 1\n",
    "\n",
    "# fig.add_layer(heat_layer)\n",
    "# fig"
   ]
  },
  {
   "cell_type": "code",
   "execution_count": null,
   "metadata": {},
   "outputs": [],
   "source": [
    "#Subset the Data\n",
    "ml = minor_locations.sample(10)\n",
    "mw = minor_weights.sample(10)"
   ]
  },
  {
   "cell_type": "code",
   "execution_count": null,
   "metadata": {},
   "outputs": [],
   "source": [
    "# # Assign the marker layer to a variable\n",
    "# markers = gmaps.marker_layer(ml, fill_color='rgba(0, 150, 0, 0.4)',\n",
    "#     stroke_color='rgba(0, 0, 150, 0.4)', scale=2)\n",
    "# # Add the layer to the map\n",
    "# fig.add_layer(markers)\n",
    "# fig"
   ]
  },
  {
   "cell_type": "code",
   "execution_count": null,
   "metadata": {},
   "outputs": [],
   "source": []
  },
  {
   "cell_type": "code",
   "execution_count": null,
   "metadata": {},
   "outputs": [],
   "source": []
  },
  {
   "cell_type": "code",
   "execution_count": null,
   "metadata": {},
   "outputs": [],
   "source": []
  }
 ],
 "metadata": {
  "kernelspec": {
   "display_name": "Python 3",
   "language": "python",
   "name": "python3"
  },
  "language_info": {
   "codemirror_mode": {
    "name": "ipython",
    "version": 3
   },
   "file_extension": ".py",
   "mimetype": "text/x-python",
   "name": "python",
   "nbconvert_exporter": "python",
   "pygments_lexer": "ipython3",
   "version": "3.7.2"
  }
 },
 "nbformat": 4,
 "nbformat_minor": 2
}
